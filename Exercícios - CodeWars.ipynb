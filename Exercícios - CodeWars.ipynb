{
 "cells": [
  {
   "cell_type": "markdown",
   "metadata": {},
   "source": [
    "A hero is on his way to the castle to complete his mission. However, he's been told that the castle is surrounded with a couple of powerful dragons! each dragon takes 2 bullets to be defeated, our hero has no idea how many bullets he should carry.. Assuming he's gonna grab a specific given number of bullets and move forward to fight another specific given number of dragons, will he survive?\n",
    "\n",
    "Return True if yes, False otherwise :)"
   ]
  },
  {
   "cell_type": "code",
   "execution_count": null,
   "metadata": {},
   "outputs": [],
   "source": [
    "Bullets = int(input('Informe quantas balas você tem:'))\n",
    "Dragons = int(input('informe quantos dragões você irá enfrentar:'))\n",
    "\n",
    "if Dragons > (Bullets / 2):\n",
    "    print('\\nThe hero WONT survive! :(')\n",
    "else:\n",
    "    print('\\nCongratulations! The hero SURVIVED!')"
   ]
  },
  {
   "cell_type": "markdown",
   "metadata": {},
   "source": [
    "____________________________________________________________________________________________________________________________\n",
    "Write a program that finds the summation of every number from 1 to num. The number will always be a positive integer greater than 0."
   ]
  },
  {
   "cell_type": "code",
   "execution_count": null,
   "metadata": {},
   "outputs": [],
   "source": [
    "num = 8\n",
    "num2 = 0\n",
    "contador = 0\n",
    "while contador < num:\n",
    "    num2 = (num2 + contador)\n",
    "    contador += 1\n",
    "print(num2 + num)"
   ]
  },
  {
   "cell_type": "markdown",
   "metadata": {},
   "source": [
    "____________________________________________________________________________________________________________________________\n",
    "You get an array of numbers, return the sum of all of the positives ones."
   ]
  },
  {
   "cell_type": "code",
   "execution_count": null,
   "metadata": {},
   "outputs": [],
   "source": [
    "lista=[1,2,3,-1,-2,4,5,-6,6,7,8]\n",
    "\n",
    "contador = 0\n",
    "\n",
    "for item in lista:\n",
    "    if item < 0:\n",
    "        continue\n",
    "    else:\n",
    "        contador += item\n",
    "print(contador)\n",
    "\n",
    "#-----------------------------------------\n",
    "\n",
    "sum([item for item in lista if item >= 0])"
   ]
  },
  {
   "cell_type": "markdown",
   "metadata": {},
   "source": [
    "____________________________________________________________________________________________________________________________\n",
    "Implement a function which convert the given boolean value into its string representation.\n",
    "\n",
    "Note: Only valid inputs will be given."
   ]
  },
  {
   "cell_type": "code",
   "execution_count": null,
   "metadata": {},
   "outputs": [],
   "source": [
    "if b = True:\n",
    "    b = 'True'\n",
    "else:\n",
    "    b = 'False'"
   ]
  },
  {
   "cell_type": "markdown",
   "metadata": {},
   "source": [
    "____________________________________________________________________________________________________________________________\n",
    "The year is 1214. One night, Pope Innocent III awakens to find the the archangel Gabriel floating before him. Gabriel thunders to the pope:\n",
    "\n",
    "\n",
    "`'Gather all of the learned men in Pisa, especially Leonardo Fibonacci. In order for the crusades in the holy lands to be successful, these men must calculate the millionth number in Fibonacci's recurrence. Fail to do this, and your armies will never reclaim the holy land. It is His will.'`\n",
    "\n",
    "\n",
    "The angel then vanishes in an explosion of white light.\n",
    "\n",
    "Pope Innocent III sits in his bed in awe. How much is a million? he thinks to himself. He never was very good at math.\n",
    "\n",
    "He tries writing the number down, but because everyone in Europe is still using Roman numerals at this moment in history, he cannot represent this number. If he only knew about the invention of zero, it might make this sort of thing easier.\n",
    "\n",
    "He decides to go back to bed. He consoles himself, The Lord would never challenge me thus; this must have been some deceit by the devil. A pretty horrendous nightmare, to be sure.\n",
    "\n",
    "Pope Innocent III's armies would go on to conquer Constantinople (now Istanbul), but they would never reclaim the holy land as he desired.\n",
    "________________________________________________________\n",
    "In this kata you will have to calculate fib(n) where:\n",
    "\n",
    "```python\n",
    "fib(0) := 0\n",
    "fib(1) := 1\n",
    "fin(n + 2) := fib(n + 1) + fib(n)\n",
    "```\n",
    "```\n",
    "Write an algorithm that can handle n up to 2000000.\n",
    "```\n",
    "\n",
    "Your algorithm must output the exact integer answer, to full precision. Also, it must correctly handle negative numbers as input.\n",
    "\n",
    "HINT I: Can you rearrange the equation fib(n + 2) = fib(n + 1) + fib(n) to find fib(n) if you already know fib(n + 1) and fib(n + 2)? Use this to reason what value fib has to have for negative values.\n",
    "\n",
    "HINT II: See https://mitpress.mit.edu/sites/default/files/sicp/full-text/book/book-Z-H-11.html#%_sec_1.2.4"
   ]
  },
  {
   "cell_type": "code",
   "execution_count": null,
   "metadata": {},
   "outputs": [],
   "source": [
    "def fib(n):\n",
    "    \"\"\"Calculates the nth Fibonacci number\"\"\"\n",
    "    contador = 0\n",
    "    i1 = 0\n",
    "    i2 = 0\n",
    "    i3 = 0\n",
    "    while contador != n:\n",
    "        if contador == 0:\n",
    "            i1 = i2\n",
    "            i2 = i1\n",
    "            i3 += 1\n",
    "            contador += 1\n",
    "        else:\n",
    "            i1 = i2\n",
    "            i2 = i3\n",
    "            i3 = i1 + i2\n",
    "            contador += 1\n",
    "    return(i3)"
   ]
  },
  {
   "cell_type": "code",
   "execution_count": null,
   "metadata": {},
   "outputs": [],
   "source": [
    "# Python 3: Fibonacci series up to n\n",
    "def fib(n):\n",
    "    a, b = 0, 1\n",
    "    contador = 0\n",
    "    while contador < n:\n",
    "        a, b = b, (a)+(b)\n",
    "        contador += 1\n",
    "    print(a)"
   ]
  },
  {
   "cell_type": "code",
   "execution_count": null,
   "metadata": {},
   "outputs": [],
   "source": [
    "fib(5)"
   ]
  },
  {
   "cell_type": "markdown",
   "metadata": {},
   "source": [
    "____________________________________________________________________________________________________________________________\n",
    "***Created by: Tiago B. Evans***\n",
    "\n",
    "Conta a lenda que o xadrez foi inventado na Índia, há mais de 1500 anos. O rei ficou tão fascinado com a invenção e as infinitas variações de movimentos, que resolveu recompensar o inventor.\n",
    "\n",
    "O rei perguntou: `O que você quer de recompensa?`\n",
    "\n",
    "Inventor: `Quero um grão de arroz para a primeira casa, dois grãos para a segunda casa, 4 para a terceira, e assim sucessivamente.`\n",
    "\n",
    "`“Só isso?”`, o rei retrucou.\n",
    "\n",
    "Então, o rei pediu para seus programadores fazerem as contas.\n",
    "\n",
    "- Na primeira casa, 1 grão = 2^0\n",
    "- Na segunda casa, 2 grãos = 2^1,\n",
    "- Na terceira casa, 4 grãos = 2^2.\n",
    "\n",
    "*Dica! A soma de todas das casas é igual a 2^64-1 = 1,8 *10^19 grãos de arroz.\n",
    "\n",
    "Faça um programa que calcule de acordo com a progressão geométrica quantos grão de arroz daria em n.\n",
    "```python\n",
    "def pgeo(n)\n",
    "```"
   ]
  },
  {
   "cell_type": "code",
   "execution_count": null,
   "metadata": {},
   "outputs": [],
   "source": [
    "def pgeo(n):\n",
    "    contador = 0\n",
    "    i1 = 0\n",
    "    while contador != n:\n",
    "        if i1 == 0:\n",
    "            i1 += 1\n",
    "            contador += 1\n",
    "        else:\n",
    "            i1 = i1 * 2\n",
    "            contador += 1\n",
    "    return(i1)\n",
    "\n",
    "pgeo(64)"
   ]
  },
  {
   "cell_type": "markdown",
   "metadata": {},
   "source": [
    "____________________________________________________________________________________________________________________________\n",
    "Terminal game move function\n",
    "In this game, the hero moves from left to right. The player rolls the dice and moves the number of spaces indicated by the dice two times.\n",
    "\n",
    "Create a function for the terminal game that takes the current position of the hero and the roll (1-6) and return the new position."
   ]
  },
  {
   "cell_type": "code",
   "execution_count": null,
   "metadata": {},
   "outputs": [],
   "source": [
    "def solution(molar_mass1, molar_mass2, given_mass1, given_mass2, volume, temp) :\n",
    "    # your code goes here\n",
    "    P = (((given_mass1 / molar_mass1) + (given_mass2 / molar_mass2)) * (0.082 * (temp + 273.15))) / volume\n",
    "    return(P)\n",
    "    "
   ]
  },
  {
   "cell_type": "markdown",
   "metadata": {},
   "source": [
    "____________________________________________________________________________________________________________________________\n",
    "Finish the uefaEuro2016() function so it return string just like in the examples below:\n",
    "\n",
    "```python\n",
    "uefa_euro_2016( ['Germany', 'Ukraine'] , [2, 0] ) # \"At match Germany - Ukraine, Germany won!\"\n",
    "\n",
    "uefa_euro_2016( ['Belgium', 'Italy'] , [0, 2] ) # \"At match Belgium - Italy, Italy won!\"\n",
    "\n",
    "uefa_euro_2016( ['Portugal', 'Iceland'] , [1, 1] ) # \"At match Portugal - Iceland, teams played draw.\"\n",
    "```"
   ]
  },
  {
   "cell_type": "code",
   "execution_count": null,
   "metadata": {},
   "outputs": [],
   "source": [
    "def uefa_euro_2016(teams, scores):\n",
    "    if scores[0] > scores[1]:\n",
    "        return \"At match {0} - {1}, {0} won!\".format(teams[0],teams[1])\n",
    "    elif scores[0] < scores[1]:\n",
    "        return \"At match {0} - {1}, {1} won!\".format(teams[0],teams[1])\n",
    "    else:\n",
    "        return \"At match {0} - {1}, teams played draw.\".format(teams[0],teams[1])"
   ]
  },
  {
   "cell_type": "markdown",
   "metadata": {},
   "source": [
    "____________________________________________________________________________________________________________________________\n",
    "\n",
    "Given two integers a and b, which can be positive or negative, find the sum of all the integers between including them too and return it. If the two numbers are equal return a or b.\n",
    "\n",
    "Note: a and b are not ordered!\n",
    "\n",
    "# Examples\n",
    "\n",
    "```\n",
    "et_sum(1, 0) == 1   // 1 + 0 = 1\n",
    "get_sum(1, 2) == 3   // 1 + 2 = 3\n",
    "get_sum(0, 1) == 1   // 0 + 1 = 1\n",
    "get_sum(1, 1) == 1   // 1 Since both are same\n",
    "get_sum(-1, 0) == -1 // -1 + 0 = -1\n",
    "get_sum(-1, 2) == 2  // -1 + 0 + 1 + 2 = 2\n",
    "```"
   ]
  },
  {
   "cell_type": "code",
   "execution_count": null,
   "metadata": {},
   "outputs": [],
   "source": [
    "def get_sum(a,b):\n",
    "    #good lucky!\n",
    "    if a < b:\n",
    "        return(sum(list(range(a,b+1))))\n",
    "    else:\n",
    "        return(sum(list(range(b,a+1))))"
   ]
  },
  {
   "cell_type": "markdown",
   "metadata": {},
   "source": [
    "____________________________________________________________________________________________________________________________\n",
    "You probably know that some characters written on a piece of paper, after turning this sheet 180 degrees, can be read, although somitimes in a different way. So, uppercase letters \"H\", \"I\", \"N\", \"O\", \"S\", \"X\", \"Z\" after rotation are not changed, the letter \"M\" becomes a \"W\", and Vice versa, the letter \"W\" becomes a \"M\".\n",
    "\n",
    "We will call a word \"shifter\" if it consists only of these letters. After turning the sheet, this word can also be read, although in a different way. So, the word \"WOW \"turns into the word \"MOM\". On the other hand, the word \"HOME\" is not a shifter.\n",
    "\n",
    "Find the number of unique shifter words in the input string (without duplicates). String contains only uppercase letters and digits.\n",
    "\n",
    "# Examples\n",
    "\n",
    "```python\n",
    "shifter(\"SOS IN THE HOME\") == 2 # shifter words are \"SOS\" and \"IN\"\n",
    "shifter(\"WHO IS SHIFTER AND WHO IS NO\") == 3 # shifter words are \"WHO\", \"IS\", \"NO\"\n",
    "shifter(\"TASK\") == 0 # no shifter words\n",
    "shifter(\"\") == 0 # no shifter words in empty string\n",
    "```"
   ]
  },
  {
   "cell_type": "code",
   "execution_count": null,
   "metadata": {},
   "outputs": [],
   "source": [
    "#def shifter(st): \n",
    "    # your code here\n",
    "st = 'ON IN PYTHON'\n",
    "n2 = 0\n",
    "n = st.split()\n",
    "st2=[]\n",
    "for item in n:\n",
    "    if item in st2:\n",
    "        continue\n",
    "    else:\n",
    "        st2.append(item)\n",
    "for item in st2:\n",
    "    n = 0\n",
    "    for char in item:\n",
    "        if char not in ('h','i','n','o','s','x','z','m','w','H','I','N','O','S','X','Z','M','W'):\n",
    "            continue\n",
    "        else:\n",
    "            n += 1\n",
    "    if n != len(item):\n",
    "        continue\n",
    "    else:\n",
    "        n2 += 1\n",
    "print(int(n2))\n"
   ]
  },
  {
   "cell_type": "code",
   "execution_count": null,
   "metadata": {},
   "outputs": [],
   "source": [
    "st = 'ON ON ON IN PYTHON'\n",
    "st2=[]\n",
    "n=0\n",
    "n2=0\n",
    "[st2.append(item) for item in st.split() if item not in st2]\n",
    "print([n+1 for char in item if char in ('H','I','N','O','S','X','Z','M','W')])\n",
    "[n2+1 for item in st2 if n == len(item)]\n",
    "\n",
    "print(n2)"
   ]
  },
  {
   "cell_type": "code",
   "execution_count": null,
   "metadata": {},
   "outputs": [],
   "source": [
    "def shifter(st): \n",
    "    return sum(all(elem in \"HIMNOSWXZ\" for elem in x) for x in set(st.split()))"
   ]
  },
  {
   "cell_type": "markdown",
   "metadata": {},
   "source": [
    "____________________________________________________________________________________________________________________________\n",
    "In a small town the population is p0 = 1000 at the beginning of a year. The population regularly increases by 2 percent per year and moreover 50 new inhabitants per year come to live in the town. How many years does the town need to see its population greater or equal to p = 1200 inhabitants?\n",
    "\n",
    "```\n",
    "At the end of the first year there will be: \n",
    "1000 + 1000 * 0.02 + 50 => 1070 inhabitants\n",
    "\n",
    "At the end of the 2nd year there will be: \n",
    "1070 + 1070 * 0.02 + 50 => 1141 inhabitants (** number of inhabitants is an integer **)\n",
    "\n",
    "At the end of the 3rd year there will be:\n",
    "1141 + 1141 * 0.02 + 50 => 1213\n",
    "\n",
    "It will need 3 entire years.\n",
    "```\n",
    "\n",
    "More generally given parameters:\n",
    "\n",
    "`p0, percent, aug (inhabitants coming or leaving each year), p (population to surpass)`\n",
    "\n",
    "the function nb_year should return n number of entire years needed to get a population greater or equal to p.\n",
    "\n",
    "`aug is an integer, percent a positive or null floating number, p0 and p are positive integers (> 0)`"
   ]
  },
  {
   "cell_type": "code",
   "execution_count": null,
   "metadata": {},
   "outputs": [],
   "source": [
    "def nb_year(p0, percent, aug, p):\n",
    "    # your code\n",
    "    years = 0\n",
    "    while p0 < p:\n",
    "        p0 += ((p0 // 100) * percent) + aug\n",
    "        years += 1\n",
    "    return(int(years))"
   ]
  },
  {
   "cell_type": "code",
   "execution_count": null,
   "metadata": {},
   "outputs": [],
   "source": [
    "nb_year(1000, 2, 50, 1200)\n"
   ]
  },
  {
   "cell_type": "markdown",
   "metadata": {},
   "source": [
    "____________________________________________________________________________________________________________________________\n",
    "In mathematics, an nth root of a number x, where n is usually assumed to be a positive integer, is a number r which, when raised to the power n, yields x:\n",
    "```\n",
    "r^n=x,\n",
    "```\n",
    "Given number n, such that n > 1, find if its 2nd root, 4th root and 8th root are all integers (fractional part is 0), return true if it exists, false if not.\n",
    "```\n",
    "# 2nd root of 256 is 16\n",
    "# 4th root of 256 is 4\n",
    "# 8th root of 256 is 2\n",
    "```\n",
    "perfect_roots(256) # returns True "
   ]
  },
  {
   "cell_type": "code",
   "execution_count": null,
   "metadata": {},
   "outputs": [],
   "source": [
    "def perfect_roots(n):\n",
    "    # your code here\n",
    "    if (n**0.5)%1==0 and (n**0.25)%1==0 and (n**0.125)%1==0:\n",
    "        print(True)\n",
    "    else:\n",
    "        print(False)"
   ]
  },
  {
   "cell_type": "code",
   "execution_count": null,
   "metadata": {},
   "outputs": [],
   "source": [
    "def perfect_roots2(n):\n",
    "    # your code here\n",
    "    if (n**0.5/1 == n**0.5//1) == True and (n**0.25/1 == n**0.25//1) == True and (n**0.125/1 == n**0.125//1) == True:\n",
    "        print(True)\n",
    "    else:\n",
    "        print(False)"
   ]
  },
  {
   "cell_type": "code",
   "execution_count": null,
   "metadata": {},
   "outputs": [],
   "source": [
    "perfect_roots(6561)\n",
    "perfect_roots2(6561)"
   ]
  },
  {
   "cell_type": "markdown",
   "metadata": {},
   "source": [
    "____________________________________________________________________________________________________________________________\n",
    "You have read the title: you must guess a sequence. It will have something to do with the number given.\n",
    "\n",
    "```python\n",
    "x = 16\n",
    "\n",
    "result = [1, 10, 11, 12, 13, 14, 15, 16, 2, 3, 4, 5, 6, 7, 8, 9]\n",
    "```\n",
    "\n",
    "Good luck!"
   ]
  },
  {
   "cell_type": "code",
   "execution_count": 94,
   "metadata": {},
   "outputs": [],
   "source": [
    "def sequence(x):\n",
    "    lista = list(range(1,x+1))\n",
    "    print(lista)"
   ]
  },
  {
   "cell_type": "code",
   "execution_count": 95,
   "metadata": {},
   "outputs": [
    {
     "name": "stdout",
     "output_type": "stream",
     "text": [
      "[1, 2, 3, 4, 5, 6, 7, 8, 9, 10, 11, 12, 13, 14, 15, 16]\n"
     ]
    }
   ],
   "source": [
    "sequence(16)"
   ]
  },
  {
   "cell_type": "markdown",
   "metadata": {},
   "source": [
    "____________________________________________________________________________________________________________________________\n",
    "Some really funny web dev gave you a sequence of numbers from his API response as an sequence of strings!\n",
    "\n",
    "You need to cast the whole array to the correct type.\n",
    "\n",
    "Create the function that takes as a parameter a sequence of numbers represented as strings and outputs a sequence of numbers.\n",
    "\n",
    "```python\n",
    "ie:[\"1\", \"2\", \"3\"] to [1, 2, 3]\n",
    "```\n",
    "\n",
    "Note that you can receive floats as well."
   ]
  },
  {
   "cell_type": "code",
   "execution_count": 67,
   "metadata": {},
   "outputs": [],
   "source": [
    "def to_float_array(arr): \n",
    "    # your code here\n",
    "    lista = []\n",
    "    for item in arr:\n",
    "        if item.find('.') == True:\n",
    "            lista.append(float(item))\n",
    "        else:\n",
    "            lista.append(int(item))\n",
    "    print(lista)        "
   ]
  },
  {
   "cell_type": "code",
   "execution_count": 72,
   "metadata": {},
   "outputs": [],
   "source": [
    "def to_float_array2(arr): \n",
    "    # your code here\n",
    "    lista = []\n",
    "    for item in arr:\n",
    "            lista.append(float(item))\n",
    "    print(lista) "
   ]
  },
  {
   "cell_type": "code",
   "execution_count": 69,
   "metadata": {},
   "outputs": [],
   "source": [
    "def to_float_array3(arr):\n",
    "    print([float(item) for item in arr])"
   ]
  },
  {
   "cell_type": "code",
   "execution_count": 74,
   "metadata": {},
   "outputs": [
    {
     "name": "stdout",
     "output_type": "stream",
     "text": [
      "[1.1, 2.2, 3.3, 4, 5]\n",
      "[1.1, 2.2, 3.3, 4.0, 5.0]\n",
      "[1.1, 2.2, 3.3, 4.0, 5.0]\n"
     ]
    }
   ],
   "source": [
    "to_float_array([\"1.1\", \"2.2\", \"3.3\",'4','5'])\n",
    "to_float_array2([\"1.1\", \"2.2\", \"3.3\",'4','5'])\n",
    "to_float_array3([\"1.1\", \"2.2\", \"3.3\",'4','5'])"
   ]
  },
  {
   "cell_type": "markdown",
   "metadata": {},
   "source": [
    "____________________________________________________________________________________________________________________________\n",
    "It has long been rumoured that behind Chuck's beard is not a chin, but another fist!\n",
    "\n",
    "When shaving, Chuck accidentally punched himself in the face. He is the only man that could take that punch without dying, but that doesn't mean it didn't sting! Chuck can't remember a thing - he needs your help!!\n",
    "\n",
    "Hidden within the provided sequence of sequences are numbers that represent the letters of the words for some of Chuck's favourite things! Your job is to translate them, and return the words so that Chuck can get back to the business of punching and kicking things."
   ]
  },
  {
   "cell_type": "code",
   "execution_count": 272,
   "metadata": {},
   "outputs": [],
   "source": [
    "def fist_beard(arr): \n",
    "    # your code here\n",
    "    lista=[]\n",
    "    string=''\n",
    "    for x in range(len(arr)): #define o range para a quantidade de itens ou \"sub-listas\"\n",
    "        for y in range(len(arr[x])): #define o range para a quantidade de itens dentro das \"sub-listas\"\n",
    "            lista.append(chr(arr[x][y])) #arr[x][y] pega cada item de dentro da lista ao percorrer os ranges estabelecidos anteriormentes\n",
    "    for item in lista:\n",
    "        string = string + item\n",
    "    print(string)"
   ]
  },
  {
   "cell_type": "code",
   "execution_count": 271,
   "metadata": {},
   "outputs": [],
   "source": [
    "def fist_beard2(arr):\n",
    "    print(\"\".join([\"\".join([chr(i) for i in j])for j in arr]))\n",
    "    \n",
    "#join Junta cada item da string com um delimitador especificado."
   ]
  },
  {
   "cell_type": "code",
   "execution_count": null,
   "metadata": {},
   "outputs": [],
   "source": [
    "'''\n",
    "resultado para Java Script:\n",
    "function fistBeard(arr) {\n",
    "  var step1 = arr.join(',') // \"78,117,110 ...\"\n",
    "  var step2 = step1.split(',') \n",
    "  var answer = ''\n",
    "  \n",
    "  for(let i = 0; i<step2.length; i++) {\n",
    "    answer = answer + String.fromCharCode(step2[i])\n",
    "  }\n",
    "  return answer\n",
    "}\n",
    "'''"
   ]
  },
  {
   "cell_type": "markdown",
   "metadata": {},
   "source": [
    "____________________________________________________________________________________________________________________________\n",
    "____________________________________________________________________________________________________________________________\n",
    "## OUTRO NÍVEL - VOLTAR DEPOIS DE APRENDER MAIS!\n",
    "\n",
    "To complete this Kata you need to make a function multiplyAll/multiply_all which takes an array of integers as an argument. This function must return another function, which takes a single integer as an argument and returns a new array.\n",
    "\n",
    "`\n",
    "The returned array should consist of each of the elements from the first array multiplied by the integer.\n",
    "`\n",
    "\n",
    "Example:\n",
    "```python\n",
    "multiply_all([1, 2, 3])(2); // => [2, 4, 6]\n",
    "```\n",
    "\n",
    "You must not mutate the original array.\n",
    "\n",
    "Here's a [nice Youtube video about currying](https://www.youtube.com/watch?v=iZLP4qOwY8I), which might help you if this is new to you."
   ]
  },
  {
   "cell_type": "markdown",
   "metadata": {},
   "source": [
    "Your task is to make a function that can take any non-negative integer as an argument and return it with its digits in descending order. Essentially, rearrange the digits to create the highest possible number.\n",
    "\n",
    "Examples:\n",
    "\n",
    "\n",
    "```Input: 42145 Output: 54421```\n",
    "\n",
    "```Input: 145263 Output: 654321```\n",
    "\n",
    "```Input: 123456789 Output: 987654321```"
   ]
  },
  {
   "cell_type": "code",
   "execution_count": 305,
   "metadata": {},
   "outputs": [],
   "source": [
    "def descending_order(num):\n",
    "    # Bust a move right here\n",
    "    lista = list(str(num))\n",
    "    lista.sort(reverse=True)\n",
    "    return(int(''.join(lista)))"
   ]
  },
  {
   "cell_type": "code",
   "execution_count": 304,
   "metadata": {},
   "outputs": [
    {
     "data": {
      "text/plain": [
       "['1', '2', '3', '4', '5', '6', '7', '8', '9']"
      ]
     },
     "execution_count": 304,
     "metadata": {},
     "output_type": "execute_result"
    }
   ],
   "source": [
    "def Descending_Order2(num):\n",
    "    return int(\"\".join(sorted(str(num), reverse=True)))"
   ]
  },
  {
   "cell_type": "markdown",
   "metadata": {},
   "source": [
    "____________________________________________________________________________________________________________________________\n",
    "Given: a sequence of different type of values (number, string, boolean). You should return an object with a separate properties for each of types presented in input. Each property should contain an array of corresponding values.\n",
    "\n",
    "- keep order of values like in input array\n",
    "- if type is not presented in input, no corresponding property are expected\n",
    "\n",
    "So, for this input:\n",
    "\n",
    "```python\n",
    "['a', 1, 2, False, 'b']\n",
    "```\n",
    "\n",
    "expected output is:\n",
    "```python\n",
    "{\n",
    "  int: [1, 2],\n",
    "  str: ['a', 'b'],\n",
    "  bool: [False]\n",
    "}\n",
    "```"
   ]
  },
  {
   "cell_type": "code",
   "execution_count": 201,
   "metadata": {},
   "outputs": [],
   "source": [
    "def separate_types(seq): \n",
    "    # your code here\n",
    "    a = []\n",
    "    b = []\n",
    "    c = []\n",
    "    dic = dict()\n",
    "    for i in seq:\n",
    "        if type(i) == int:\n",
    "            a.append(i)\n",
    "            dic[int] = a\n",
    "        elif type(i) == str:\n",
    "            b.append(i)\n",
    "            dic[str] = b\n",
    "        elif type(i) == bool:\n",
    "            c.append(i)\n",
    "            dic[bool] = c\n",
    "        else:\n",
    "            continue\n",
    "    print(dic)"
   ]
  },
  {
   "cell_type": "code",
   "execution_count": 211,
   "metadata": {},
   "outputs": [],
   "source": [
    "def separate_types2(seq): \n",
    "    dic = {}\n",
    "    for i in seq:\n",
    "        if type(i) not in dic:\n",
    "            dic[type(i)] = [i]\n",
    "        else:\n",
    "            dic[type(i)].append(i)\n",
    "    return(dic)"
   ]
  },
  {
   "cell_type": "code",
   "execution_count": 212,
   "metadata": {},
   "outputs": [
    {
     "data": {
      "text/plain": [
       "{str: ['a', 'b'], int: [1, 2], bool: [False]}"
      ]
     },
     "execution_count": 212,
     "metadata": {},
     "output_type": "execute_result"
    }
   ],
   "source": [
    "separate_types2(['a', 1, 2,'b',False])"
   ]
  },
  {
   "cell_type": "markdown",
   "metadata": {},
   "source": [
    "____________________________________________________________________________________________________________________________\n",
    "Given two numbers x and n, calculate the (positive) nth root of x.\n",
    "\n",
    "- This means that being r = result, r^n = x.\n",
    "# Examples\n",
    "- Input: x=4, n=2, output: 2. The square root of 4 is 2, 2^2 = 4\n",
    "- Input: x=8, n=3, output: 2. The cube root of 8 is 2 , 2^3 = 8\n",
    "- Input: x=256, n=4, output: 4. The 4th root of 256 is 4 , 4^4 = 256\n",
    "- Input: x=9, n=2, output: 3. The square root of 9 is 3 , 3^2 = 9\n",
    "- Input: x=6.25, n=2, output: 2.5. The square root of 6.25 is 2.5 , 2.5^2 = 6.25\n",
    "\n",
    "Notes:\n",
    "- Expect x greater than 1 × 10^19\n",
    "- n will always be a positive integer.\n",
    "\n",
    "Good luck!"
   ]
  },
  {
   "cell_type": "code",
   "execution_count": 94,
   "metadata": {},
   "outputs": [],
   "source": [
    "def root(x, n):\n",
    "    # TODO: Return nth root of x\n",
    "    print(x**(1/n))"
   ]
  },
  {
   "cell_type": "code",
   "execution_count": 95,
   "metadata": {},
   "outputs": [
    {
     "name": "stdout",
     "output_type": "stream",
     "text": [
      "4.0\n"
     ]
    }
   ],
   "source": [
    "root(256,4)"
   ]
  },
  {
   "cell_type": "markdown",
   "metadata": {},
   "source": [
    "____________________________________________________________________________________________________________________________\n",
    "Build a function that can get all the integers between two given numbers.\n",
    "\n",
    "Example:\n",
    "\n",
    "`(2,9)`\n",
    "\n",
    "Should give you this output back:\n",
    "\n",
    "`[ 3, 4, 5, 6, 7, 8 ]`\n",
    "\n",
    "If start_num is the same as end_num, return an empty sequence."
   ]
  },
  {
   "cell_type": "code",
   "execution_count": 97,
   "metadata": {},
   "outputs": [],
   "source": [
    "def function(a, b): \n",
    "    # your code here\n",
    "    if a == b:\n",
    "        print([])\n",
    "    else:\n",
    "        print(list(range(a+1,b)))"
   ]
  },
  {
   "cell_type": "code",
   "execution_count": null,
   "metadata": {},
   "outputs": [],
   "source": [
    "def function2(a, b): \n",
    "    return list(range(a+1, b))"
   ]
  },
  {
   "cell_type": "markdown",
   "metadata": {},
   "source": [
    "_____________________________________________________________________________________________________________________________________\n",
    "Given a sequence of integers, return the sum of all the integers that have an even index, multiplied by the integer at the last index.\n",
    "\n",
    "If the sequence is empty, you should return 0."
   ]
  },
  {
   "cell_type": "code",
   "execution_count": 158,
   "metadata": {},
   "outputs": [],
   "source": [
    "'''# Essa função não funcionou pois o index não considera a posição de valores duplicados.\n",
    "def even_last(x): \n",
    "    # your code here\n",
    "    if x == []:\n",
    "        return(0)\n",
    "    return(sum([i for i in x if x.index(i) % 2 == 0]) * x[len(x)-1])  '''"
   ]
  },
  {
   "cell_type": "code",
   "execution_count": 195,
   "metadata": {},
   "outputs": [],
   "source": [
    "def even_last(x): \n",
    "    # your code here\n",
    "    z = 0\n",
    "    y = []\n",
    "    if x == []:\n",
    "        return(0)\n",
    "    while z < len(x):\n",
    "        y.append(x[z])\n",
    "        z += 2\n",
    "    return(sum(y) * x[len(x)-1])"
   ]
  },
  {
   "cell_type": "code",
   "execution_count": null,
   "metadata": {},
   "outputs": [],
   "source": [
    "#fancier mode, activated!\n",
    "def even_last2(x): \n",
    "    if x == []:\n",
    "        return(0)\n",
    "    return(sum(x[::2]) * x[-1])"
   ]
  }
 ],
 "metadata": {
  "kernelspec": {
   "display_name": "Python 3",
   "language": "python",
   "name": "python3"
  },
  "language_info": {
   "codemirror_mode": {
    "name": "ipython",
    "version": 3
   },
   "file_extension": ".py",
   "mimetype": "text/x-python",
   "name": "python",
   "nbconvert_exporter": "python",
   "pygments_lexer": "ipython3",
   "version": "3.8.5"
  }
 },
 "nbformat": 4,
 "nbformat_minor": 4
}
