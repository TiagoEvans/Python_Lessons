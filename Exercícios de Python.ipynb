{
 "cells": [
  {
   "cell_type": "markdown",
   "metadata": {},
   "source": [
    "## Exercício 1\n",
    "\n",
    "Faça um programa que peça uma nota, entre zero e dez. Mostre uma mensagem caso o valor seja inválido e continue pedindo até que o usuário informe um valor válido."
   ]
  },
  {
   "cell_type": "code",
   "execution_count": 53,
   "metadata": {},
   "outputs": [
    {
     "name": "stdin",
     "output_type": "stream",
     "text": [
      "Digite aqui um valor de 0 - 10: 1.1\n"
     ]
    },
    {
     "name": "stdout",
     "output_type": "stream",
     "text": [
      "Valor aceito.\n"
     ]
    }
   ],
   "source": [
    "Nota = float(input('Digite aqui um valor de 0 - 10:'))\n",
    "\n",
    "while (Nota < 0) or (Nota > 10):\n",
    "    Nota = float(input('Valor inválido. Digite um valor de 0 - 10:'))\n",
    "print('Valor aceito.')"
   ]
  },
  {
   "cell_type": "markdown",
   "metadata": {},
   "source": [
    "## Exercício 2\n",
    "\n",
    "Faça um programa que leia um nome de usuário e a sua senha e não aceite a senha igual ao nome do usuário, mostrando uma mensagem de erro e voltando a pedir as informações."
   ]
  },
  {
   "cell_type": "code",
   "execution_count": 55,
   "metadata": {},
   "outputs": [
    {
     "name": "stdin",
     "output_type": "stream",
     "text": [
      "Usuário: Tiago\n",
      "Senha: Tiago\n"
     ]
    },
    {
     "name": "stdout",
     "output_type": "stream",
     "text": [
      "Senha não pode ser igual ao usuário! Tente novamente:\n"
     ]
    },
    {
     "name": "stdin",
     "output_type": "stream",
     "text": [
      "Senha: Tiago123\n"
     ]
    },
    {
     "name": "stdout",
     "output_type": "stream",
     "text": [
      "Usuário cadastrado com sucesso.\n"
     ]
    }
   ],
   "source": [
    "Usuário = input('Usuário:')\n",
    "Senha = input('Senha:')\n",
    "\n",
    "while Usuário == Senha:\n",
    "    print('Senha não pode ser igual ao usuário! Tente novamente:')\n",
    "    Senha = input('Senha:')\n",
    "\n",
    "print('Usuário cadastrado com sucesso.')"
   ]
  },
  {
   "cell_type": "markdown",
   "metadata": {},
   "source": [
    "## Exercício 3\n",
    "Faça um programa que leia e valide as seguintes informações:\n",
    "\n",
    "**a.** Nome: maior que 3 caracteres;\n",
    "\n",
    "**b.** Idade: entre 0 e 150;\n",
    "\n",
    "**c.** Salário: maior que zero;\n",
    "\n",
    "**d.** Sexo: 'f' ou 'm';\n",
    "\n",
    "**e.** Estado Civil: 's', 'c', 'v', 'd';\n",
    "\n",
    "Use a função len(string) para saber o tamanho de um texto (número de caracteres)."
   ]
  },
  {
   "cell_type": "code",
   "execution_count": 56,
   "metadata": {},
   "outputs": [
    {
     "name": "stdin",
     "output_type": "stream",
     "text": [
      "Nome (mínimo 4 caracteres): joa\n",
      "Idade: 151\n",
      "Salário: -1\n",
      "Sexo (f para feminino ou m para masculino): feminino\n",
      "Estado Civil: (s, c, v, d) solteiro\n",
      "Nome inválido! Digite um nome com no mínimo 4 caracteres: joão\n",
      "Idade inválida! Insira um valor entre 0 e 150: 21\n",
      "Salário inválido! Não informar um valor abaixo de 0: 800\n",
      "Sexo inválido! Digite f para feminino ou m para masculino: f\n"
     ]
    },
    {
     "name": "stdout",
     "output_type": "stream",
     "text": [
      "\n",
      "Estado Civil inválido! Informe:\n",
      " s para Solteiro\n",
      " c para Casado\n",
      " v para Viúvo\n",
      " d para divorciado.\n"
     ]
    },
    {
     "name": "stdin",
     "output_type": "stream",
     "text": [
      "Estado Civil: (s, c, v, d): v\n"
     ]
    }
   ],
   "source": [
    "Nome = input('Nome (mínimo 4 caracteres):')\n",
    "Idade = int(input('Idade:'))\n",
    "Salario = float(input('Salário:'))\n",
    "Sexo = input('Sexo (f para feminino ou m para masculino):')\n",
    "EstCivil = input('Estado Civil: (s, c, v, d)')\n",
    "\n",
    "while len(Nome) < 4:\n",
    "    Nome = input('Nome inválido! Digite um nome com no mínimo 4 caracteres:')\n",
    "\n",
    "while Idade <0 or Idade > 150:\n",
    "    Idade = int(input('Idade inválida! Insira um valor entre 0 e 150:'))\n",
    "    \n",
    "while Salario < 0:\n",
    "    Salario = float(input('Salário inválido! Não informar um valor abaixo de 0:'))\n",
    "\n",
    "while (Sexo != 'f') and (Sexo != 'm') and (Sexo != 'F') and (Sexo != 'M'):\n",
    "    Sexo = input('Sexo inválido! Digite f para feminino ou m para masculino:')\n",
    "\n",
    "while (EstCivil != 's') and (EstCivil != 'S') and (EstCivil != 'c') and (EstCivil != 'C') and (EstCivil != 'v') and (EstCivil != 'V') and (EstCivil != 'd') and (EstCivil != 'D'):\n",
    "    print('\\nEstado Civil inválido! Informe:\\n s para Solteiro\\n c para Casado\\n v para Viúvo\\n d para divorciado.')\n",
    "    EstCivil = input('Estado Civil: (s, c, v, d):')"
   ]
  },
  {
   "cell_type": "markdown",
   "metadata": {},
   "source": [
    "## Exercício 4\n",
    "\n",
    "Supondo que a população de um país A seja da ordem de 80,000 habitantes com uma taxa anual de crescimento de 3% e que a população de B seja 200,000 habitantes com uma taxa de crescimento de 1.5%. Faça um programa que calcule e escreva o número de anos necessários para que a população do país A ultrapasse ou iguale a população do país B, mantidas as taxas de crescimento."
   ]
  },
  {
   "cell_type": "code",
   "execution_count": 57,
   "metadata": {},
   "outputs": [
    {
     "name": "stdout",
     "output_type": "stream",
     "text": [
      "\n",
      "Resultado final:\n",
      "\n",
      "Anos passados: 63\n",
      "População final de País A: 514954\n",
      "População final de País B: 510914\n"
     ]
    }
   ],
   "source": [
    "Pais_A = 80000\n",
    "Pais_B = 200000\n",
    "Anos = 0\n",
    "\n",
    "while Pais_A <= Pais_B:\n",
    "    Pais_A += int((Pais_A/100)*3)\n",
    "    Pais_B += int((Pais_B/100)*1.5)\n",
    "    Anos += 1\n",
    "\n",
    "print('\\nResultado final:')\n",
    "print('\\nAnos passados:',Anos)\n",
    "print('População final de País A:',Pais_A)\n",
    "print('População final de País B:',Pais_B)"
   ]
  },
  {
   "cell_type": "markdown",
   "metadata": {},
   "source": [
    "## Exercício 5\n",
    "\n",
    "Altere o programa anterior permitindo ao usuário informar as populações e as taxas de crescimento iniciais. Valide a entrada e permita repetir a operação."
   ]
  },
  {
   "cell_type": "code",
   "execution_count": 62,
   "metadata": {},
   "outputs": [
    {
     "name": "stdin",
     "output_type": "stream",
     "text": [
      "População do país A: 80\n",
      "Taxa de crescimento do país A (%): 1\n",
      "População do país B: 10\n",
      "Taxa de crescimento do país B (%): 1\n"
     ]
    },
    {
     "name": "stdout",
     "output_type": "stream",
     "text": [
      "\n",
      "Resultado final:\n",
      "\n",
      "Anos passados: 0\n",
      "População final de País A: 80\n",
      "População final de País B: 10\n"
     ]
    }
   ],
   "source": [
    "Pais_A = float(input('População do país A:'))\n",
    "while Pais_A < 0:\n",
    "    Pais_A = float(input('Pupolação do país A deve ser maior que 0:'))\n",
    "\n",
    "Taxa_A = float(input('Taxa de crescimento do país A (%):'))\n",
    "\n",
    "Pais_B = int(input('População do país B:'))\n",
    "while Pais_B < 0:\n",
    "    Pais_B = int(input('Pupolação do país B deve ser maior que 0:'))\n",
    "\n",
    "Taxa_B = float(input('Taxa de crescimento do país B (%):'))\n",
    "\n",
    "Anos = 0\n",
    "\n",
    "while Pais_A <= Pais_B:\n",
    "    Pais_A += int((Pais_A/100)*Taxa_A)\n",
    "    Pais_B += int((Pais_B/100)*Taxa_B)\n",
    "    Anos += 1\n",
    "    print('\\nAnos passados:',Anos)\n",
    "    print('População de País A:',int(Pais_A))\n",
    "    print('População de País B:',int(Pais_B))\n",
    "\n",
    "print('\\nResultado final:')\n",
    "print('\\nAnos passados:',Anos)\n",
    "print('População final de País A:',int(Pais_A))\n",
    "print('População final de País B:',int(Pais_B))"
   ]
  },
  {
   "cell_type": "markdown",
   "metadata": {},
   "source": [
    "## Exercício 6\n",
    "\n",
    "Faça um programa que imprima na tela os números de 1 a 20, um abaixo do outro. Depois modifique o programa para que ele mostre os números um ao lado do outro."
   ]
  },
  {
   "cell_type": "code",
   "execution_count": 66,
   "metadata": {},
   "outputs": [
    {
     "name": "stdout",
     "output_type": "stream",
     "text": [
      "0\n",
      "1\n",
      "2\n",
      "3\n",
      "4\n",
      "5\n",
      "6\n",
      "7\n",
      "8\n",
      "9\n",
      "10\n",
      "11\n",
      "12\n",
      "13\n",
      "14\n",
      "15\n",
      "16\n",
      "17\n",
      "18\n",
      "19\n",
      "20\n"
     ]
    }
   ],
   "source": [
    "Numero = 0\n",
    "\n",
    "while Numero <= 20:\n",
    "    print(Numero)\n",
    "    Numero += 1"
   ]
  },
  {
   "cell_type": "code",
   "execution_count": 63,
   "metadata": {},
   "outputs": [
    {
     "name": "stdout",
     "output_type": "stream",
     "text": [
      "[0, 1, 2, 3, 4, 5, 6, 7, 8, 9, 10, 11, 12, 13, 14, 15, 16, 17, 18, 19, 20]\n"
     ]
    }
   ],
   "source": [
    "Numero = 0\n",
    "Lista = [Numero]\n",
    "\n",
    "while Numero < 20:\n",
    "    Numero += 1\n",
    "    Lista.append(Numero)\n",
    "    \n",
    "print(Lista)"
   ]
  }
 ],
 "metadata": {
  "kernelspec": {
   "display_name": "Python 3",
   "language": "python",
   "name": "python3"
  },
  "language_info": {
   "codemirror_mode": {
    "name": "ipython",
    "version": 3
   },
   "file_extension": ".py",
   "mimetype": "text/x-python",
   "name": "python",
   "nbconvert_exporter": "python",
   "pygments_lexer": "ipython3",
   "version": "3.8.5"
  }
 },
 "nbformat": 4,
 "nbformat_minor": 4
}
